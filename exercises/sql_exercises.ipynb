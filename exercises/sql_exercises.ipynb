{
 "cells": [
  {
   "cell_type": "markdown",
   "id": "c21009ac-61a0-423b-aa85-70d76956195f",
   "metadata": {},
   "source": [
    "# SQL (T-SQL) Practical Task Exercises – Arteom Kalamaghin"
   ]
  },
  {
   "cell_type": "markdown",
   "id": "49a7b296-9e1a-40e8-9c93-7a9ce5b5d414",
   "metadata": {},
   "source": [
    "## 175. Combine Two Tables"
   ]
  },
  {
   "cell_type": "code",
   "execution_count": null,
   "id": "4068c091-2b4f-4499-b886-50f5da50ce9d",
   "metadata": {},
   "outputs": [],
   "source": [
    "SELECT\n",
    "    p.firstName,\n",
    "    p.lastName,\n",
    "    a.city,\n",
    "    a.state\n",
    "FROM Person AS p\n",
    "LEFT JOIN Address AS a\n",
    "    ON p.personId = a.personId;"
   ]
  },
  {
   "cell_type": "markdown",
   "id": "f9e44227-dc02-466b-89e0-d6d4416b45bd",
   "metadata": {},
   "source": [
    "## 176. Second Highest Salary"
   ]
  },
  {
   "cell_type": "code",
   "execution_count": null,
   "id": "cb054718-ca79-4e34-901c-501ddc7bac36",
   "metadata": {},
   "outputs": [],
   "source": [
    "WITH RankedSalaries AS (\n",
    "    SELECT DISTINCT salary\n",
    "    FROM Employee\n",
    ")\n",
    "SELECT\n",
    "    MAX(salary) AS SecondHighestSalary\n",
    "FROM (\n",
    "    SELECT salary\n",
    "    FROM RankedSalaries\n",
    "    ORDER BY salary DESC\n",
    "    OFFSET 1 ROWS\n",
    "    FETCH NEXT 1 ROWS ONLY\n",
    ") AS SecondSalary;"
   ]
  },
  {
   "cell_type": "markdown",
   "id": "8cf6a6c0-884c-4bb0-9a71-28d81bff147d",
   "metadata": {},
   "source": [
    "## 177. Nth Highest Salary"
   ]
  },
  {
   "cell_type": "code",
   "execution_count": null,
   "id": "0f4c76fe-eadc-4f9a-88af-dcd77ae99f3b",
   "metadata": {},
   "outputs": [],
   "source": [
    "CREATE FUNCTION getNthHighestSalary(@N INT)\n",
    "RETURNS INT\n",
    "AS\n",
    "BEGIN\n",
    "    DECLARE @result INT;\n",
    "\n",
    "    IF @N <= 0\n",
    "        RETURN NULL;\n",
    "\n",
    "    WITH RankedSalaries AS (\n",
    "        SELECT DISTINCT salary\n",
    "        FROM Employee\n",
    "    )\n",
    "    SELECT @result = MAX(salary)\n",
    "    FROM (\n",
    "        SELECT salary\n",
    "        FROM RankedSalaries\n",
    "        ORDER BY salary DESC\n",
    "        OFFSET @N-1 ROWS\n",
    "        FETCH NEXT 1 ROWS ONLY\n",
    "    ) AS SecondSalary;\n",
    "\n",
    "    RETURN @result;\n",
    "END;"
   ]
  },
  {
   "cell_type": "markdown",
   "id": "836fe583-213a-4dea-9f04-9f3eecd794ca",
   "metadata": {},
   "source": [
    "## 178. Rank Scores"
   ]
  },
  {
   "cell_type": "code",
   "execution_count": null,
   "id": "3b2c1eed-6856-4381-9434-68e516bd5437",
   "metadata": {},
   "outputs": [],
   "source": [
    "SELECT\n",
    "    score,\n",
    "    DENSE_RANK() OVER (ORDER BY score DESC) AS rank\n",
    "FROM scores;"
   ]
  },
  {
   "cell_type": "markdown",
   "id": "9b7bed99-57cd-4f14-bbcc-13ceb4c66951",
   "metadata": {},
   "source": [
    "## 180. Consecutive Numbers"
   ]
  },
  {
   "cell_type": "code",
   "execution_count": null,
   "id": "eb5af2f4-37a4-4116-8dc8-ca46be7c0a44",
   "metadata": {},
   "outputs": [],
   "source": [
    "SELECT\n",
    "    DISTINCT l1.num AS ConsecutiveNums\n",
    "FROM Logs AS l1a\n",
    "LEFT JOIN Logs AS l2\n",
    "    ON l2.id = l1.id + 1\n",
    "LEFT JOIN Logs AS l3\n",
    "    ON l3.id = l1.id + 2\n",
    "WHERE l1.num = l2.num AND l2.num = l3.num;"
   ]
  },
  {
   "cell_type": "markdown",
   "id": "6ce46a22-0b26-4d8f-aa2c-3b7d73f32c56",
   "metadata": {},
   "source": [
    "## 181. Employees Earning More Than Their Managers"
   ]
  },
  {
   "cell_type": "code",
   "execution_count": null,
   "id": "2b4540c3-baa6-4192-9aaf-f7b53f1c7a7e",
   "metadata": {},
   "outputs": [],
   "source": [
    "SELECT\n",
    "    e1.name AS Employee\n",
    "FROM Employee AS e1\n",
    "LEFT JOIN Employee AS e2\n",
    "    ON e1.managerId = e2.id\n",
    "WHERE e1.salary;"
   ]
  }
 ],
 "metadata": {
  "kernelspec": {
   "display_name": "Python 3 (ipykernel)",
   "language": "python",
   "name": "python3"
  },
  "language_info": {
   "codemirror_mode": {
    "name": "ipython",
    "version": 3
   },
   "file_extension": ".py",
   "mimetype": "text/x-python",
   "name": "python",
   "nbconvert_exporter": "python",
   "pygments_lexer": "ipython3",
   "version": "3.12.10"
  }
 },
 "nbformat": 4,
 "nbformat_minor": 5
}
